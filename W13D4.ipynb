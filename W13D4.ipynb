{
 "cells": [
  {
   "cell_type": "code",
   "execution_count": 1,
   "id": "1a0208f9-0353-4078-8688-2abd80ac9fa9",
   "metadata": {
    "tags": []
   },
   "outputs": [],
   "source": [
    "lista_numeri=[0,1,2,3,4,5]"
   ]
  },
  {
   "cell_type": "code",
   "execution_count": 2,
   "id": "84283306-7c86-4df0-baf1-b2360ff307dd",
   "metadata": {
    "tags": []
   },
   "outputs": [
    {
     "name": "stdout",
     "output_type": "stream",
     "text": [
      "[0, 1, 2, 3, 4, 5]\n"
     ]
    }
   ],
   "source": [
    "print(lista_numeri)"
   ]
  },
  {
   "cell_type": "code",
   "execution_count": 3,
   "id": "796f646f-43e2-4262-aa26-d8277624b7d9",
   "metadata": {
    "tags": []
   },
   "outputs": [],
   "source": [
    "film_preferiti=[\"Il castello errante di Howl\",\"Your Name\",\"Sulle Ali della Libertà\"]"
   ]
  },
  {
   "cell_type": "code",
   "execution_count": 4,
   "id": "2fe376e6-6445-4c45-b97d-c6a995b7d174",
   "metadata": {
    "tags": []
   },
   "outputs": [
    {
     "name": "stdout",
     "output_type": "stream",
     "text": [
      "['Il castello errante di Howl', 'Your Name', 'Sulle Ali della Libertà']\n"
     ]
    }
   ],
   "source": [
    "print(film_preferiti)"
   ]
  },
  {
   "cell_type": "code",
   "execution_count": 5,
   "id": "8ea95c7f-9620-48cb-83f8-1e180f601b41",
   "metadata": {
    "tags": []
   },
   "outputs": [],
   "source": [
    "nome_scuola = \"Epicode\""
   ]
  },
  {
   "cell_type": "code",
   "execution_count": 6,
   "id": "a87b8c74-18ff-42b7-957a-9c7fe666797f",
   "metadata": {
    "tags": []
   },
   "outputs": [
    {
     "name": "stdout",
     "output_type": "stream",
     "text": [
      "E\n"
     ]
    }
   ],
   "source": [
    "print(nome_scuola[:1])"
   ]
  },
  {
   "cell_type": "code",
   "execution_count": 8,
   "id": "9b189621-c991-4945-befe-2a085ea454e6",
   "metadata": {
    "tags": []
   },
   "outputs": [
    {
     "name": "stdout",
     "output_type": "stream",
     "text": [
      "Epi\n"
     ]
    }
   ],
   "source": [
    "print(nome_scuola[:3])"
   ]
  },
  {
   "cell_type": "code",
   "execution_count": 9,
   "id": "35bbb77b-3294-480a-a0ea-0c2b751924e8",
   "metadata": {
    "tags": []
   },
   "outputs": [],
   "source": [
    "x=10"
   ]
  },
  {
   "cell_type": "code",
   "execution_count": 10,
   "id": "91ab7f6d-d3c2-48b2-b9e8-38352e7b19f3",
   "metadata": {
    "tags": []
   },
   "outputs": [],
   "source": [
    "x+=2"
   ]
  },
  {
   "cell_type": "code",
   "execution_count": 11,
   "id": "8937fc54-ddb5-4063-ba6e-aa7a13c33a9c",
   "metadata": {
    "tags": []
   },
   "outputs": [],
   "source": [
    "x*=3"
   ]
  },
  {
   "cell_type": "code",
   "execution_count": 12,
   "id": "02bf8116-8d38-4869-96ff-e99f6646b823",
   "metadata": {
    "tags": []
   },
   "outputs": [
    {
     "name": "stdout",
     "output_type": "stream",
     "text": [
      "36\n"
     ]
    }
   ],
   "source": [
    "print(x)"
   ]
  },
  {
   "cell_type": "code",
   "execution_count": 13,
   "id": "dcb4a5bf-29a5-4bea-ab2d-07a6d1ce2ea9",
   "metadata": {
    "tags": []
   },
   "outputs": [],
   "source": [
    "x=10"
   ]
  },
  {
   "cell_type": "code",
   "execution_count": 14,
   "id": "bb9bbe17-ab6c-482d-a7b8-327935324d4e",
   "metadata": {
    "tags": []
   },
   "outputs": [],
   "source": [
    "x=x+2"
   ]
  },
  {
   "cell_type": "code",
   "execution_count": 15,
   "id": "d0c1271c-7fff-4e0e-9ea8-7507837d9ba8",
   "metadata": {
    "tags": []
   },
   "outputs": [],
   "source": [
    "x=x*3"
   ]
  },
  {
   "cell_type": "code",
   "execution_count": 16,
   "id": "39e04627-7709-45c2-b0e7-79096b29a5dc",
   "metadata": {
    "tags": []
   },
   "outputs": [
    {
     "name": "stdout",
     "output_type": "stream",
     "text": [
      "36\n"
     ]
    }
   ],
   "source": [
    "print(x)"
   ]
  },
  {
   "cell_type": "code",
   "execution_count": 25,
   "id": "dfa07599-d7a1-48ba-a071-4bd55631651d",
   "metadata": {
    "tags": []
   },
   "outputs": [],
   "source": [
    "stringa1 = \"Esercizio Python\""
   ]
  },
  {
   "cell_type": "code",
   "execution_count": 26,
   "id": "66988db8-d7c1-4266-a2b5-6510b462f881",
   "metadata": {
    "tags": []
   },
   "outputs": [
    {
     "name": "stdout",
     "output_type": "stream",
     "text": [
      "Ese...hon\n"
     ]
    }
   ],
   "source": [
    "print((stringa1[:3])+\"...\"+(stringa1[-3:]))"
   ]
  },
  {
   "cell_type": "code",
   "execution_count": 28,
   "id": "a60ff557-8662-4c51-ad61-4c29b7ce22b9",
   "metadata": {
    "tags": []
   },
   "outputs": [],
   "source": [
    "stringa2=\"Windows\""
   ]
  },
  {
   "cell_type": "code",
   "execution_count": 40,
   "id": "e5364de4-d999-4cd9-bee5-7d5da4e16a32",
   "metadata": {
    "tags": []
   },
   "outputs": [
    {
     "name": "stdout",
     "output_type": "stream",
     "text": [
      "True\n"
     ]
    }
   ],
   "source": [
    "print(5<=len(stringa2)<=8)"
   ]
  },
  {
   "cell_type": "code",
   "execution_count": 41,
   "id": "8dd6fb1e-09a7-4a4d-a2d8-64c20bd40342",
   "metadata": {
    "tags": []
   },
   "outputs": [
    {
     "name": "stdout",
     "output_type": "stream",
     "text": [
      "True\n"
     ]
    }
   ],
   "source": [
    "stringa3=\"Excel\"; print(5<=len(stringa3)<=8)"
   ]
  },
  {
   "cell_type": "code",
   "execution_count": 42,
   "id": "4421dc01-075c-4d3f-8fd6-2b1ea93f39a8",
   "metadata": {
    "tags": []
   },
   "outputs": [
    {
     "name": "stdout",
     "output_type": "stream",
     "text": [
      "False\n"
     ]
    }
   ],
   "source": [
    "stringa4=\"Powerpoint\"; print(5<=len(stringa4)<=8)"
   ]
  },
  {
   "cell_type": "code",
   "execution_count": 43,
   "id": "5838b605-55d0-4ece-872e-784b52753cc0",
   "metadata": {
    "tags": []
   },
   "outputs": [
    {
     "name": "stdout",
     "output_type": "stream",
     "text": [
      "False\n"
     ]
    }
   ],
   "source": [
    "stringa5=\"Word\"; print(5<len(stringa5)<=8)"
   ]
  },
  {
   "cell_type": "code",
   "execution_count": 34,
   "id": "0b39a8f7-e1eb-41b4-8eef-77af0e2f998b",
   "metadata": {
    "tags": []
   },
   "outputs": [],
   "source": [
    "stringa6=[\"Windows\",\"Excel\",\"Powerpoint\",\"Word\"]"
   ]
  },
  {
   "cell_type": "code",
   "execution_count": 36,
   "id": "c17a78af-338c-4201-aa3b-a410c43f97a5",
   "metadata": {
    "tags": []
   },
   "outputs": [
    {
     "name": "stdout",
     "output_type": "stream",
     "text": [
      "Windows ha una lunghezza compresa tra 5 e 8 caratteri.\n",
      "Excel ha una lunghezza compresa tra 5 e 8 caratteri.\n",
      "Powerpoint non ha una lunghezza compresa tra 5 e 8 caratteri.\n",
      "Word non ha una lunghezza compresa tra 5 e 8 caratteri.\n"
     ]
    }
   ],
   "source": [
    "for s in stringa6: print(f\"{s} ha una lunghezza compresa tra 5 e 8 caratteri.\" if 5 <= len(s) <= 8 else f\"{s} non ha una lunghezza compresa tra 5 e 8 caratteri.\")"
   ]
  },
  {
   "cell_type": "code",
   "execution_count": 44,
   "id": "7358353c-a98a-4e79-9610-9290a97fe2ee",
   "metadata": {
    "tags": []
   },
   "outputs": [],
   "source": [
    "codici=[\"knt-S1\", \"cba-G9\", \"qtr-Z8\"]"
   ]
  },
  {
   "cell_type": "code",
   "execution_count": 55,
   "id": "8ed6a501-3f06-4d2f-96e2-46f945a5bd40",
   "metadata": {
    "tags": []
   },
   "outputs": [],
   "source": [
    "nuovi_codici = [nc [-3:] for nc in codici]"
   ]
  },
  {
   "cell_type": "code",
   "execution_count": 56,
   "id": "8f63afa0-2adf-4788-8b88-4234a546685a",
   "metadata": {
    "tags": []
   },
   "outputs": [
    {
     "name": "stdout",
     "output_type": "stream",
     "text": [
      "['-S1', '-G9', '-Z8']\n"
     ]
    }
   ],
   "source": [
    "print(nuovi_codici)"
   ]
  },
  {
   "cell_type": "code",
   "execution_count": 57,
   "id": "6892e942-87f6-4c54-ba35-77374a9ea330",
   "metadata": {
    "tags": []
   },
   "outputs": [],
   "source": [
    "codici=[\"knt-S1\", \"cba-G9\", \"qtr-Z8\"]"
   ]
  },
  {
   "cell_type": "code",
   "execution_count": 61,
   "id": "8a185391-dbed-464d-a015-22828ffaaafc",
   "metadata": {
    "tags": []
   },
   "outputs": [
    {
     "name": "stdout",
     "output_type": "stream",
     "text": [
      "['-S1', '-G9', '-Z8']\n"
     ]
    }
   ],
   "source": [
    "codici1=codici[0]; codici2=codici[1]; codici3=codici[2]; \n",
    "codici1=codici1[-3:]; codici2=codici2[-3:]; codici3=codici3[-3:];\n",
    "new_codici=[codici1, codici2, codici3];\n",
    "print(new_codici)"
   ]
  },
  {
   "cell_type": "code",
   "execution_count": 62,
   "id": "7445a4eb-6d74-4328-9625-96987b2d7e87",
   "metadata": {
    "tags": []
   },
   "outputs": [],
   "source": [
    "growth = {\"Tesla\", \"Shopify\", \"Block\", \"Etsy\", \"MercadoLibre\", \"Netflix\", \"Amazon\", \"Meta Platforms\", \"Salesforce\", \"Alphabet\"}"
   ]
  },
  {
   "cell_type": "code",
   "execution_count": 63,
   "id": "db3c23be-041a-4154-b850-4dccb8e6af37",
   "metadata": {
    "tags": []
   },
   "outputs": [],
   "source": [
    "value = {\"Pfizer\", \"Johnson & Johnson\", \"JPMorgan Chase & Co.\", \"Wells Fargo & Co.\", \"Verizon Communications\", \"BP PLC\", \"LyondellBasell Industries\", \"MetLife\", \"Interactive Brokers Group\", \"Intel\"}"
   ]
  },
  {
   "cell_type": "code",
   "execution_count": 64,
   "id": "18eaf744-14db-48dd-a170-8f51d724f2ef",
   "metadata": {
    "tags": []
   },
   "outputs": [],
   "source": [
    "tech = {\"Apple\", \"Microsoft\", \"Alphabet\", \"Amazon\", \"NVIDIA\", \"Meta Platforms\", \"Tesla\", \"Alibaba\", \"Salesforce\", \"Advanced Micro Devices\", \"Intel\", \"PayPal\", \"Activision Blizzard\", \"Electronic Arts\", \"The Trade Desk\", \"Zillow Group\", \"Match Group\", \"Yelp\"}"
   ]
  },
  {
   "cell_type": "code",
   "execution_count": 65,
   "id": "7feefcf6-82b0-4aa5-86af-dcd1f3ced067",
   "metadata": {
    "tags": []
   },
   "outputs": [],
   "source": [
    "healthcare = {\"UnitedHealth Group\", \"Johnson & Johnson\", \"Eli Lilly & Co.\", \"Novo Nordisk\", \"Merck & Co.\", \"Roche Holding\", \"Pfizer\", \"Thermo Fisher Scientific\", \"Abbott Laboratories\"}"
   ]
  },
  {
   "cell_type": "code",
   "execution_count": 68,
   "id": "5acc7e36-21bc-490e-ab60-aac977c5d68f",
   "metadata": {
    "tags": []
   },
   "outputs": [
    {
     "name": "stdout",
     "output_type": "stream",
     "text": [
      "Investimenti diversificati: {'Verizon Communications', 'Intel', 'LyondellBasell Industries', 'Tesla', 'Johnson & Johnson', 'Amazon', 'Meta Platforms', 'Pfizer', 'Shopify', 'Interactive Brokers Group', 'Salesforce', 'Etsy', 'Netflix', 'Wells Fargo & Co.', 'MercadoLibre', 'MetLife', 'Alphabet', 'Block', 'BP PLC', 'JPMorgan Chase & Co.'}\n"
     ]
    }
   ],
   "source": [
    "print(\"Investimenti diversificati:\", growth. symmetric_difference(value))"
   ]
  },
  {
   "cell_type": "code",
   "execution_count": 69,
   "id": "46919c75-8edd-4c01-8cca-71d22274fce3",
   "metadata": {
    "tags": []
   },
   "outputs": [
    {
     "name": "stdout",
     "output_type": "stream",
     "text": [
      "Growth & Tech: {'Salesforce', 'Tesla', 'Alphabet', 'Amazon', 'Meta Platforms'}\n"
     ]
    }
   ],
   "source": [
    "print(\"Growth & Tech:\",growth.intersection(tech))"
   ]
  },
  {
   "cell_type": "code",
   "execution_count": 71,
   "id": "de8face4-c9d5-440d-a74c-38c9473dba0d",
   "metadata": {
    "tags": []
   },
   "outputs": [
    {
     "name": "stdout",
     "output_type": "stream",
     "text": [
      "Value & Tech: {'Intel'}\n"
     ]
    }
   ],
   "source": [
    "print(\"Value & Tech:\", value.intersection(tech))"
   ]
  },
  {
   "cell_type": "code",
   "execution_count": 72,
   "id": "c25c5b69-fbb9-4c2f-a55d-78b47408e528",
   "metadata": {
    "tags": []
   },
   "outputs": [
    {
     "name": "stdout",
     "output_type": "stream",
     "text": [
      "Healthcare not value: {'Novo Nordisk', 'Thermo Fisher Scientific', 'UnitedHealth Group', 'Roche Holding', 'Abbott Laboratories', 'Merck & Co.', 'Eli Lilly & Co.'}\n"
     ]
    }
   ],
   "source": [
    "print(\"Healthcare not value:\", healthcare.difference(value))"
   ]
  },
  {
   "cell_type": "code",
   "execution_count": 73,
   "id": "12915041-a931-46c1-8e7a-3e61c5b2fc2a",
   "metadata": {
    "tags": []
   },
   "outputs": [
    {
     "name": "stdout",
     "output_type": "stream",
     "text": [
      "H & T: set()\n"
     ]
    }
   ],
   "source": [
    "print(\"H & T:\", healthcare.intersection(tech))"
   ]
  },
  {
   "cell_type": "code",
   "execution_count": 74,
   "id": "34bd1cd9-0807-4e52-9b8c-217118b902a9",
   "metadata": {
    "tags": []
   },
   "outputs": [
    {
     "name": "stdout",
     "output_type": "stream",
     "text": [
      "Azioni Tech G or V: {'Salesforce', 'Tesla', 'Alphabet', 'Amazon', 'Meta Platforms'}\n"
     ]
    }
   ],
   "source": [
    "print(\"Azioni Tech G or V:\", tech.intersection(growth) or tech.intersection(value))"
   ]
  },
  {
   "cell_type": "code",
   "execution_count": null,
   "id": "5a3a2ec3-3b00-4473-ad74-e71d688deef6",
   "metadata": {},
   "outputs": [],
   "source": []
  }
 ],
 "metadata": {
  "kernelspec": {
   "display_name": "Python 3 (ipykernel)",
   "language": "python",
   "name": "python3"
  },
  "language_info": {
   "codemirror_mode": {
    "name": "ipython",
    "version": 3
   },
   "file_extension": ".py",
   "mimetype": "text/x-python",
   "name": "python",
   "nbconvert_exporter": "python",
   "pygments_lexer": "ipython3",
   "version": "3.11.5"
  }
 },
 "nbformat": 4,
 "nbformat_minor": 5
}
